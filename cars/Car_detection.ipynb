{
 "cells": [
  {
   "cell_type": "code",
   "execution_count": 1,
   "metadata": {},
   "outputs": [],
   "source": [
    "# Import the library\n",
    "import cv2\n",
    "import time\n",
    "import numpy as np\n",
    "\n",
    "\n",
    "# Create a classifier which contains cars\n",
    "classify_car = cv2.CascadeClassifier('cars.xml')\n",
    "\n",
    "# Make a video capture file\n",
    "video_capture = cv2.VideoCapture('moving_car.mp4')\n",
    "\n",
    "\n",
    "# Loop through the video\n",
    "while video_capture.isOpened():\n",
    "    \n",
    "    ret , frame = video_capture.read()  # <-- Read the data\n",
    "    \n",
    "    # resize the frame upto 50%\n",
    "    frame = cv2.resize(frame , None , fx=1 , fy=1 , interpolation=cv2.INTER_LINEAR)\n",
    "    \n",
    "\n",
    "    # Convert the image to grayscale of the video\n",
    "    grayscale_img = cv2.cvtColor(frame , cv2.COLOR_BGR2GRAY)\n",
    "    \n",
    "    # Passing the frame to full body classifier\n",
    "    cars_detected = classify_car.detectMultiScale(grayscale_img , 1.4 , 2)\n",
    "    \n",
    "    # Draw rectangle around the bodies of the people\n",
    "    for(x,y,w,h) in cars_detected:\n",
    "        cv2.rectangle(frame , (x,y) , (x+w,y+h) , (0,255,255) , 2)\n",
    "        cv2.imshow('These are the cars' , frame)    \n",
    "    \n",
    "    # Exit from the while loop on entering q\n",
    "    if cv2.waitKey(1) & 0xFF == ord('q'):\n",
    "        break\n",
    "            \n",
    "            \n",
    "video_capture.release()  # <-- release the video\n",
    "cv2.destroyAllWindows()  # <-- destroys the window"
   ]
  },
  {
   "cell_type": "code",
   "execution_count": null,
   "metadata": {},
   "outputs": [],
   "source": []
  }
 ],
 "metadata": {
  "kernelspec": {
   "display_name": "Python 3",
   "language": "python",
   "name": "python3"
  },
  "language_info": {
   "codemirror_mode": {
    "name": "ipython",
    "version": 3
   },
   "file_extension": ".py",
   "mimetype": "text/x-python",
   "name": "python",
   "nbconvert_exporter": "python",
   "pygments_lexer": "ipython3",
   "version": "3.7.1"
  }
 },
 "nbformat": 4,
 "nbformat_minor": 2
}
