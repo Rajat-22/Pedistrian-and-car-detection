{
 "cells": [
  {
   "cell_type": "code",
   "execution_count": 1,
   "metadata": {},
   "outputs": [],
   "source": [
    "import cv2      #  <-- import important library\n",
    "import numpy as np\n",
    "\n",
    "\n",
    "# Create a classifier which contains full_body \n",
    "classify_body = cv2.CascadeClassifier('haarcascade_fullbody.xml')\n",
    "\n",
    "\n",
    "# Make a video capture file\n",
    "video_capture = cv2.VideoCapture('Walking_people.mp4')\n",
    "\n",
    "\n",
    "# Loop on the video\n",
    "while video_capture.isOpened():\n",
    "    \n",
    "    ret , frame = video_capture.read()  # <-- Read the data\n",
    "    \n",
    "    # resize the frame upto 50%\n",
    "    frame = cv2.resize(frame , None , fx=1 , fy=1 , interpolation=cv2.INTER_LINEAR)\n",
    "    \n",
    "\n",
    "    # Convert the image to grayscale of the video\n",
    "    grayscale_img = cv2.cvtColor(frame , cv2.COLOR_BGR2GRAY)\n",
    "    \n",
    "    # Passing the frame to full body classifier\n",
    "    bodies_detected = classify_body.detectMultiScale(grayscale_img , 1.2 , 3)\n",
    "    \n",
    "    # Draw rectangle around the bodies of the people\n",
    "    for(x,y,w,h) in bodies_detected:\n",
    "        cv2.rectangle(frame , (x,y) , (x+w,y+h) , (0,255,0) , 2)\n",
    "        cv2.imshow('Walking People' , frame)    \n",
    "    \n",
    "    # Exit from the while loop on entering q\n",
    "    if cv2.waitKey(1) & 0xFF == ord('q'):\n",
    "        break\n",
    "            \n",
    "            \n",
    "video_capture.release()  # <-- release the video\n",
    "cv2.destroyAllWindows()  # <-- destroys the window"
   ]
  },
  {
   "cell_type": "code",
   "execution_count": null,
   "metadata": {},
   "outputs": [],
   "source": []
  }
 ],
 "metadata": {
  "kernelspec": {
   "display_name": "Python 3",
   "language": "python",
   "name": "python3"
  },
  "language_info": {
   "codemirror_mode": {
    "name": "ipython",
    "version": 3
   },
   "file_extension": ".py",
   "mimetype": "text/x-python",
   "name": "python",
   "nbconvert_exporter": "python",
   "pygments_lexer": "ipython3",
   "version": "3.7.1"
  }
 },
 "nbformat": 4,
 "nbformat_minor": 2
}
